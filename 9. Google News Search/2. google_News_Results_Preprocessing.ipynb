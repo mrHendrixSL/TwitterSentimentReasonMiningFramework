{
 "cells": [
  {
   "cell_type": "code",
   "execution_count": 3,
   "metadata": {},
   "outputs": [
    {
     "name": "stderr",
     "output_type": "stream",
     "text": [
      "[nltk_data] Downloading package punkt to\n",
      "[nltk_data]     C:\\Users\\rasikac\\AppData\\Roaming\\nltk_data...\n",
      "[nltk_data]   Package punkt is already up-to-date!\n",
      "[nltk_data] Downloading package stopwords to\n",
      "[nltk_data]     C:\\Users\\rasikac\\AppData\\Roaming\\nltk_data...\n",
      "[nltk_data]   Package stopwords is already up-to-date!\n",
      "[nltk_data] Downloading package wordnet to\n",
      "[nltk_data]     C:\\Users\\rasikac\\AppData\\Roaming\\nltk_data...\n",
      "[nltk_data]   Package wordnet is already up-to-date!\n"
     ]
    }
   ],
   "source": [
    "import os\n",
    "import pandas as pd\n",
    "import nltk\n",
    "from nltk.corpus import stopwords\n",
    "from nltk.tokenize import word_tokenize\n",
    "from nltk.stem import WordNetLemmatizer\n",
    "\n",
    "nltk.download('punkt')\n",
    "nltk.download('stopwords')\n",
    "nltk.download('wordnet')\n",
    "\n",
    "# Function to preprocess text\n",
    "def preprocess_text(text):\n",
    "    text = text.lower()\n",
    "    text = ''.join([c for c in text if c.isalnum() or c.isspace()])\n",
    "    words = word_tokenize(text)\n",
    "    words = [word for word in words if word not in stop_words]\n",
    "    lemmatizer = WordNetLemmatizer()\n",
    "    words = [lemmatizer.lemmatize(word) for word in words]\n",
    "    return ' '.join(words)\n",
    "\n",
    "# Set up paths\n",
    "input_path = r'D:\\Research\\Python\\Data\\WIP\\Google Search Results'\n",
    "output_path = r'D:\\Research\\Python\\Data\\WIP\\Google search Keyword extraction'\n",
    "\n",
    "# Load stopwords\n",
    "stop_words = set(stopwords.words('english'))\n",
    "\n",
    "# Iterate through CSV files\n",
    "for filename in os.listdir(input_path):\n",
    "    if filename.startswith('Spike_Date_') and filename.endswith('.csv'):\n",
    "        dataset_name = filename.replace('.csv', '')\n",
    "        file_path = os.path.join(input_path, filename)\n",
    "        output_file_path = os.path.join(output_path, f'{dataset_name}_preprocessed.csv')\n",
    "        \n",
    "        # Load CSV\n",
    "        df = pd.read_csv(file_path)\n",
    "        \n",
    "        # Concatenate 'title' and 'description'\n",
    "        df['Combined_text'] = df['title'] + ' ' + df['description']\n",
    "        \n",
    "        # Preprocess text\n",
    "        df['Combined_text_preprocessed'] = df['Combined_text'].apply(preprocess_text)\n",
    "        \n",
    "        # Save preprocessed dataframe\n",
    "        df.to_csv(output_file_path, index=False)\n"
   ]
  }
 ],
 "metadata": {
  "kernelspec": {
   "display_name": "Python 3",
   "language": "python",
   "name": "python3"
  },
  "language_info": {
   "codemirror_mode": {
    "name": "ipython",
    "version": 3
   },
   "file_extension": ".py",
   "mimetype": "text/x-python",
   "name": "python",
   "nbconvert_exporter": "python",
   "pygments_lexer": "ipython3",
   "version": "3.11.3"
  },
  "orig_nbformat": 4
 },
 "nbformat": 4,
 "nbformat_minor": 2
}
