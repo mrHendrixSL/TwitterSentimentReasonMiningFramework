{
 "cells": [
  {
   "cell_type": "code",
   "execution_count": 41,
   "metadata": {},
   "outputs": [
    {
     "name": "stdout",
     "output_type": "stream",
     "text": [
      "Requirement already satisfied: vaderSentiment in c:\\users\\rasikac\\miniconda3\\lib\\site-packages (3.3.2)\n",
      "Requirement already satisfied: sklearn in c:\\users\\rasikac\\miniconda3\\lib\\site-packages (0.0)\n",
      "Requirement already satisfied: requests in c:\\users\\rasikac\\miniconda3\\lib\\site-packages (from vaderSentiment) (2.27.1)\n",
      "Requirement already satisfied: scikit-learn in c:\\users\\rasikac\\miniconda3\\lib\\site-packages (from sklearn) (1.3.0)\n",
      "Requirement already satisfied: idna<4,>=2.5 in c:\\users\\rasikac\\miniconda3\\lib\\site-packages (from requests->vaderSentiment) (3.3)\n",
      "Requirement already satisfied: urllib3<1.27,>=1.21.1 in c:\\users\\rasikac\\miniconda3\\lib\\site-packages (from requests->vaderSentiment) (1.26.8)\n",
      "Requirement already satisfied: certifi>=2017.4.17 in c:\\users\\rasikac\\miniconda3\\lib\\site-packages (from requests->vaderSentiment) (2023.5.7)\n",
      "Requirement already satisfied: charset-normalizer~=2.0.0 in c:\\users\\rasikac\\miniconda3\\lib\\site-packages (from requests->vaderSentiment) (2.0.4)\n",
      "Requirement already satisfied: threadpoolctl>=2.0.0 in c:\\users\\rasikac\\miniconda3\\lib\\site-packages (from scikit-learn->sklearn) (3.2.0)\n",
      "Requirement already satisfied: joblib>=1.1.1 in c:\\users\\rasikac\\miniconda3\\lib\\site-packages (from scikit-learn->sklearn) (1.2.0)\n",
      "Requirement already satisfied: numpy>=1.17.3 in c:\\users\\rasikac\\miniconda3\\lib\\site-packages (from scikit-learn->sklearn) (1.24.3)\n",
      "Requirement already satisfied: scipy>=1.5.0 in c:\\users\\rasikac\\miniconda3\\lib\\site-packages (from scikit-learn->sklearn) (1.11.1)\n"
     ]
    }
   ],
   "source": [
    "!pip install vaderSentiment sklearn"
   ]
  },
  {
   "cell_type": "code",
   "execution_count": 42,
   "metadata": {},
   "outputs": [],
   "source": [
    "import os\n",
    "import pandas as pd\n",
    "import numpy as np\n",
    "from vaderSentiment.vaderSentiment import SentimentIntensityAnalyzer\n",
    "from sklearn.metrics import accuracy_score, precision_score, recall_score, f1_score\n",
    "from sklearn.model_selection import train_test_split"
   ]
  },
  {
   "cell_type": "code",
   "execution_count": 43,
   "metadata": {},
   "outputs": [],
   "source": [
    "file_path = r'D:\\Research\\Python\\Notebooks\\Final Notebooks\\Training Data\\Manually_Annotated_data_new.csv'\n",
    "df = pd.read_csv(file_path, encoding='UTF-8', engine='python')\n"
   ]
  },
  {
   "cell_type": "code",
   "execution_count": 44,
   "metadata": {},
   "outputs": [],
   "source": [
    "X = df['Preprocessed_Text'].astype(str)  # Features\n",
    "y_true = df['Labelled_sentiment']  # True Labels\n",
    "y_true = np.nan_to_num(y_true, nan=0)  # Replace NaN values with 0 for neutral sentiment\n"
   ]
  },
  {
   "cell_type": "code",
   "execution_count": 45,
   "metadata": {},
   "outputs": [],
   "source": [
    "# Split the data into training and testing sets\n",
    "X_train, X_test, y_train, y_test = train_test_split(X, y_true, test_size=0.2, random_state=42)\n"
   ]
  },
  {
   "cell_type": "code",
   "execution_count": 46,
   "metadata": {},
   "outputs": [],
   "source": [
    "# Initialize the SentimentIntensityAnalyzer\n",
    "analyzer = SentimentIntensityAnalyzer()\n",
    "\n",
    "# Define the number of iterations\n",
    "num_iterations = 10\n",
    "\n",
    "# Initialize lists to store predicted labels for each iteration\n",
    "y_pred_train_list = []\n",
    "y_pred_test_list = []\n"
   ]
  },
  {
   "cell_type": "code",
   "execution_count": 47,
   "metadata": {},
   "outputs": [],
   "source": [
    "# Train the model for multiple iterations\n",
    "for i in range(num_iterations):\n",
    "    # Train the model using the training data\n",
    "    y_pred_train = [analyzer.polarity_scores(text)['compound'] for text in X_train]\n",
    "    y_pred_train = np.where(np.array(y_pred_train) > 0, 1, np.where(np.array(y_pred_train) < 0, -1, 0))\n",
    "    y_pred_train_list.append(y_pred_train)\n",
    "    \n",
    "    # Test the model using the testing data\n",
    "    y_pred_test = [analyzer.polarity_scores(text)['compound'] for text in X_test]\n",
    "    y_pred_test = np.where(np.array(y_pred_test) > 0, 1, np.where(np.array(y_pred_test) < 0, -1, 0))\n",
    "    y_pred_test_list.append(y_pred_test)"
   ]
  },
  {
   "cell_type": "code",
   "execution_count": 48,
   "metadata": {},
   "outputs": [],
   "source": [
    "# Test the model using the testing data\n",
    "y_pred_test = [analyzer.polarity_scores(text)['compound'] for text in X_test]\n",
    "y_pred_test = np.where(np.array(y_pred_test) > 0, 1, np.where(np.array(y_pred_test) < 0, -1, 0))\n"
   ]
  },
  {
   "cell_type": "code",
   "execution_count": 49,
   "metadata": {},
   "outputs": [],
   "source": [
    "# Calculate evaluation metrics for both training and testing sets\n",
    "accuracy_test = accuracy_score(y_test, y_pred_test)\n",
    "precision_test = precision_score(y_test, y_pred_test, average='weighted')\n",
    "recall_test = recall_score(y_test, y_pred_test, average='weighted')\n",
    "f1_test = f1_score(y_test, y_pred_test, average='weighted')\n"
   ]
  },
  {
   "cell_type": "code",
   "execution_count": 50,
   "metadata": {},
   "outputs": [
    {
     "name": "stdout",
     "output_type": "stream",
     "text": [
      "\n",
      "Testing Set:\n",
      "Accuracy: 0.7754166666666666\n",
      "Precision: 0.7847426779127968\n",
      "Recall: 0.7754166666666666\n",
      "F1 score: 0.7361168514905405\n"
     ]
    }
   ],
   "source": [
    "    print(\"\\nTesting Set:\")\n",
    "    print(\"Accuracy:\", accuracy_test)\n",
    "    print(\"Precision:\", precision_test)\n",
    "    print(\"Recall:\", recall_test)\n",
    "    print(\"F1 score:\", f1_test)"
   ]
  }
 ],
 "metadata": {
  "kernelspec": {
   "display_name": "base",
   "language": "python",
   "name": "python3"
  },
  "language_info": {
   "codemirror_mode": {
    "name": "ipython",
    "version": 3
   },
   "file_extension": ".py",
   "mimetype": "text/x-python",
   "name": "python",
   "nbconvert_exporter": "python",
   "pygments_lexer": "ipython3",
   "version": "3.9.12"
  },
  "orig_nbformat": 4
 },
 "nbformat": 4,
 "nbformat_minor": 2
}
