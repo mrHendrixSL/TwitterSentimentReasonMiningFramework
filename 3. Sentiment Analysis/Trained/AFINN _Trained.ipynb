{
 "cells": [
  {
   "cell_type": "code",
   "execution_count": 1,
   "metadata": {},
   "outputs": [
    {
     "name": "stdout",
     "output_type": "stream",
     "text": [
      "Requirement already satisfied: afinn in c:\\users\\rasikac\\miniconda3\\lib\\site-packages (0.1)\n",
      "Note: you may need to restart the kernel to use updated packages.\n"
     ]
    }
   ],
   "source": [
    "pip install afinn\n"
   ]
  },
  {
   "cell_type": "code",
   "execution_count": 2,
   "metadata": {},
   "outputs": [
    {
     "name": "stdout",
     "output_type": "stream",
     "text": [
      "\n",
      "Testing Set:\n",
      "Accuracy: 0.7216666666666667\n",
      "Precision: 0.7163596077054599\n",
      "Recall: 0.7216666666666667\n",
      "F1 score: 0.6755466133322444\n"
     ]
    }
   ],
   "source": [
    "import os\n",
    "import pandas as pd\n",
    "import numpy as np\n",
    "from afinn import Afinn\n",
    "from sklearn.metrics import accuracy_score, precision_score, recall_score, f1_score\n",
    "from sklearn.model_selection import train_test_split\n",
    "\n",
    "file_path = r'D:\\Research\\Python\\Notebooks\\Final Notebooks\\Training Data\\Manually_Annotated_data_new.csv'\n",
    "df = pd.read_csv(file_path, encoding='UTF-8', engine='python')\n",
    "\n",
    "X = df['Preprocessed_Text'].astype(str)  # Features\n",
    "y_true = df['Labelled_sentiment']  # True Labels\n",
    "y_true = np.nan_to_num(y_true, nan=0)  # Replace NaN values with 0 for neutral sentiment\n",
    "\n",
    "# Split the data into training and testing sets\n",
    "X_train, X_test, y_train, y_test = train_test_split(X, y_true, test_size=0.2, random_state=42)\n",
    "\n",
    "# Initialize AFINN\n",
    "afinn = Afinn()\n",
    "\n",
    "# Define the number of iterations\n",
    "num_iterations = 10\n",
    "\n",
    "# Initialize lists to store predicted labels for each iteration\n",
    "y_pred_train_list = []\n",
    "y_pred_test_list = []\n",
    "\n",
    "# Train the model for multiple iterations\n",
    "for i in range(num_iterations):\n",
    "    # Train the model using the training data\n",
    "    y_pred_train = [afinn.score(text) for text in X_train]\n",
    "    y_pred_train = np.where(np.array(y_pred_train) > 0, 1, np.where(np.array(y_pred_train) < 0, -1, 0))\n",
    "    y_pred_train_list.append(y_pred_train)\n",
    "\n",
    "    # Test the model using the testing data\n",
    "    y_pred_test = [afinn.score(text) for text in X_test]\n",
    "    y_pred_test = np.where(np.array(y_pred_test) > 0, 1, np.where(np.array(y_pred_test) < 0, -1, 0))\n",
    "    y_pred_test_list.append(y_pred_test)\n",
    "\n",
    "# Test the model using the testing data\n",
    "y_pred_test = [afinn.score(text) for text in X_test]\n",
    "y_pred_test = np.where(np.array(y_pred_test) > 0, 1, np.where(np.array(y_pred_test) < 0, -1, 0))\n",
    "\n",
    "# Calculate evaluation metrics for both training and testing sets\n",
    "accuracy_test = accuracy_score(y_test, y_pred_test)\n",
    "precision_test = precision_score(y_test, y_pred_test, average='weighted')\n",
    "recall_test = recall_score(y_test, y_pred_test, average='weighted')\n",
    "f1_test = f1_score(y_test, y_pred_test, average='weighted')\n",
    "\n",
    "print(\"\\nTesting Set:\")\n",
    "print(\"Accuracy:\", accuracy_test)\n",
    "print(\"Precision:\", precision_test)\n",
    "print(\"Recall:\", recall_test)\n",
    "print(\"F1 score:\", f1_test)\n"
   ]
  }
 ],
 "metadata": {
  "kernelspec": {
   "display_name": "base",
   "language": "python",
   "name": "python3"
  },
  "language_info": {
   "codemirror_mode": {
    "name": "ipython",
    "version": 3
   },
   "file_extension": ".py",
   "mimetype": "text/x-python",
   "name": "python",
   "nbconvert_exporter": "python",
   "pygments_lexer": "ipython3",
   "version": "3.9.12"
  },
  "orig_nbformat": 4
 },
 "nbformat": 4,
 "nbformat_minor": 2
}
