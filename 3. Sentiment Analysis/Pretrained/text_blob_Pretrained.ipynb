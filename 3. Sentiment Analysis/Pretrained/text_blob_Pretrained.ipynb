{
 "cells": [
  {
   "cell_type": "code",
   "execution_count": 61,
   "metadata": {},
   "outputs": [],
   "source": [
    "#Importing Libraries\n",
    "\n",
    "import os\n",
    "from tqdm import tqdm\n",
    "import pandas as pd\n",
    "import numpy as np\n",
    "import re"
   ]
  },
  {
   "cell_type": "code",
   "execution_count": 62,
   "metadata": {},
   "outputs": [
    {
     "name": "stdout",
     "output_type": "stream",
     "text": [
      "Requirement already satisfied: textblob in c:\\users\\rasikac\\miniconda3\\lib\\site-packages (0.17.1)\n",
      "Requirement already satisfied: nltk>=3.1 in c:\\users\\rasikac\\miniconda3\\lib\\site-packages (from textblob) (3.8.1)\n",
      "Requirement already satisfied: click in c:\\users\\rasikac\\miniconda3\\lib\\site-packages (from nltk>=3.1->textblob) (8.1.3)\n",
      "Requirement already satisfied: tqdm in c:\\users\\rasikac\\miniconda3\\lib\\site-packages (from nltk>=3.1->textblob) (4.63.0)\n",
      "Requirement already satisfied: joblib in c:\\users\\rasikac\\miniconda3\\lib\\site-packages (from nltk>=3.1->textblob) (1.2.0)\n",
      "Requirement already satisfied: regex>=2021.8.3 in c:\\users\\rasikac\\miniconda3\\lib\\site-packages (from nltk>=3.1->textblob) (2023.6.3)\n",
      "Requirement already satisfied: colorama in c:\\users\\rasikac\\miniconda3\\lib\\site-packages (from click->nltk>=3.1->textblob) (0.4.4)\n"
     ]
    }
   ],
   "source": [
    "!pip install textblob\n",
    "from textblob import TextBlob\n",
    "from sklearn.metrics import accuracy_score, precision_score, recall_score, f1_score\n"
   ]
  },
  {
   "cell_type": "code",
   "execution_count": 63,
   "metadata": {},
   "outputs": [
    {
     "data": {
      "text/html": [
       "<div>\n",
       "<style scoped>\n",
       "    .dataframe tbody tr th:only-of-type {\n",
       "        vertical-align: middle;\n",
       "    }\n",
       "\n",
       "    .dataframe tbody tr th {\n",
       "        vertical-align: top;\n",
       "    }\n",
       "\n",
       "    .dataframe thead th {\n",
       "        text-align: right;\n",
       "    }\n",
       "</style>\n",
       "<table border=\"1\" class=\"dataframe\">\n",
       "  <thead>\n",
       "    <tr style=\"text-align: right;\">\n",
       "      <th></th>\n",
       "      <th>Datetime</th>\n",
       "      <th>Tweet Id</th>\n",
       "      <th>Original Text</th>\n",
       "      <th>Username</th>\n",
       "      <th>date</th>\n",
       "      <th>keyword</th>\n",
       "      <th>Text</th>\n",
       "      <th>Mentions</th>\n",
       "      <th>Hashtags</th>\n",
       "      <th>URL Removed Text</th>\n",
       "      <th>Emoji Removed Text</th>\n",
       "      <th>Character Processed Text</th>\n",
       "      <th>StopWordRemovedText</th>\n",
       "      <th>Preprocessed_Text</th>\n",
       "      <th>Labelled_sentiment</th>\n",
       "    </tr>\n",
       "  </thead>\n",
       "  <tbody>\n",
       "    <tr>\n",
       "      <th>0</th>\n",
       "      <td>1/1/2021 16:08</td>\n",
       "      <td>1.350000e+18</td>\n",
       "      <td>Keystone Healthcare wishes everyone a healthy ...</td>\n",
       "      <td>KeystoneHCP</td>\n",
       "      <td>2021-01</td>\n",
       "      <td>Us Healthcare</td>\n",
       "      <td>Keystone Healthcare wishes everyone a healthy ...</td>\n",
       "      <td>NaN</td>\n",
       "      <td>#NewYear,#2021</td>\n",
       "      <td>Keystone Healthcare wishes everyone a healthy ...</td>\n",
       "      <td>Keystone Healthcare wishes everyone a healthy ...</td>\n",
       "      <td>keystone healthcare wishes everyone a healthy ...</td>\n",
       "      <td>keystone healthcare wishes everyone healthy ha...</td>\n",
       "      <td>keystone healthcare wish everyone healthy happ...</td>\n",
       "      <td>1.0</td>\n",
       "    </tr>\n",
       "  </tbody>\n",
       "</table>\n",
       "</div>"
      ],
      "text/plain": [
       "         Datetime      Tweet Id  \\\n",
       "0  1/1/2021 16:08  1.350000e+18   \n",
       "\n",
       "                                       Original Text     Username     date  \\\n",
       "0  Keystone Healthcare wishes everyone a healthy ...  KeystoneHCP  2021-01   \n",
       "\n",
       "         keyword                                               Text Mentions  \\\n",
       "0  Us Healthcare  Keystone Healthcare wishes everyone a healthy ...      NaN   \n",
       "\n",
       "         Hashtags                                   URL Removed Text  \\\n",
       "0  #NewYear,#2021  Keystone Healthcare wishes everyone a healthy ...   \n",
       "\n",
       "                                  Emoji Removed Text  \\\n",
       "0  Keystone Healthcare wishes everyone a healthy ...   \n",
       "\n",
       "                            Character Processed Text  \\\n",
       "0  keystone healthcare wishes everyone a healthy ...   \n",
       "\n",
       "                                 StopWordRemovedText  \\\n",
       "0  keystone healthcare wishes everyone healthy ha...   \n",
       "\n",
       "                                   Preprocessed_Text  Labelled_sentiment  \n",
       "0  keystone healthcare wish everyone healthy happ...                 1.0  "
      ]
     },
     "execution_count": 63,
     "metadata": {},
     "output_type": "execute_result"
    }
   ],
   "source": [
    "# Load the CSV file from local directory into a pandas DataFrame\n",
    "file_path = r'D:\\Research\\Python\\Notebooks\\Final Notebooks\\Training Data\\Manually_Annotated_data_new.csv'\n",
    "df = pd.read_csv(file_path, encoding='UTF-8', engine='python')\n",
    "df.head(1)"
   ]
  },
  {
   "cell_type": "code",
   "execution_count": 64,
   "metadata": {},
   "outputs": [],
   "source": [
    "X = df['Preprocessed_Text'].astype(str)  # Features\n",
    "y_true = df['Labelled_sentiment']  # True Labels\n",
    "\n",
    "# Replace NaN values with 0 to represent neutral sentiment\n",
    "y_true = np.nan_to_num(y_true, nan=0)\n",
    "\n",
    "\n",
    "y_pred = [TextBlob(text).sentiment.polarity for text in X]\n"
   ]
  },
  {
   "cell_type": "code",
   "execution_count": 65,
   "metadata": {},
   "outputs": [],
   "source": [
    "# Convert continuous sentiment predictions into discrete labels\n",
    "y_pred = np.where(np.array(y_pred) > 0, 1, np.where(np.array(y_pred) < 0, -1, 0))\n"
   ]
  },
  {
   "cell_type": "code",
   "execution_count": 66,
   "metadata": {},
   "outputs": [
    {
     "name": "stdout",
     "output_type": "stream",
     "text": [
      "Accuracy: 0.6863333333333334\n",
      "Precision: 0.6954784136402625\n",
      "Recall: 0.6863333333333334\n",
      "F1 score: 0.6386731233926525\n"
     ]
    }
   ],
   "source": [
    "accuracy = accuracy_score(y_true, y_pred)\n",
    "precision = precision_score(y_true, y_pred, average='weighted')\n",
    "recall = recall_score(y_true, y_pred, average='weighted')\n",
    "f1 = f1_score(y_true, y_pred, average='weighted')\n",
    "\n",
    "print(\"Accuracy:\", accuracy)\n",
    "print(\"Precision:\", precision)\n",
    "print(\"Recall:\", recall)\n",
    "print(\"F1 score:\", f1)"
   ]
  }
 ],
 "metadata": {
  "kernelspec": {
   "display_name": "Python 3",
   "language": "python",
   "name": "python3"
  },
  "language_info": {
   "codemirror_mode": {
    "name": "ipython",
    "version": 3
   },
   "file_extension": ".py",
   "mimetype": "text/x-python",
   "name": "python",
   "nbconvert_exporter": "python",
   "pygments_lexer": "ipython3",
   "version": "3.9.12"
  },
  "orig_nbformat": 4
 },
 "nbformat": 4,
 "nbformat_minor": 2
}
